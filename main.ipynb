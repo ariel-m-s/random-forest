{
 "cells": [
  {
   "cell_type": "code",
   "execution_count": 1,
   "metadata": {},
   "outputs": [
    {
     "name": "stdout",
     "output_type": "stream",
     "text": [
      "Requirement already up-to-date: pip in /Library/Frameworks/Python.framework/Versions/3.7/lib/python3.7/site-packages (19.3.1)\n",
      "Requirement already satisfied: numpy in /Library/Frameworks/Python.framework/Versions/3.7/lib/python3.7/site-packages (1.17.0)\n",
      "Requirement already satisfied: pandas in /Library/Frameworks/Python.framework/Versions/3.7/lib/python3.7/site-packages (0.25.0)\n",
      "Requirement already satisfied: python-dateutil>=2.6.1 in /Users/ArielMartinezSilberstein/Library/Python/3.7/lib/python/site-packages (from pandas) (2.7.3)\n",
      "Requirement already satisfied: pytz>=2017.2 in /Library/Frameworks/Python.framework/Versions/3.7/lib/python3.7/site-packages (from pandas) (2018.5)\n",
      "Requirement already satisfied: six>=1.5 in /Users/ArielMartinezSilberstein/Library/Python/3.7/lib/python/site-packages (from python-dateutil>=2.6.1->pandas) (1.11.0)\n"
     ]
    }
   ],
   "source": [
    "# install external packages\n",
    "!pip install --upgrade pip && pip install numpy pandas"
   ]
  },
  {
   "cell_type": "code",
   "execution_count": 2,
   "metadata": {},
   "outputs": [],
   "source": [
    "# import libraries\n",
    "from randomforest import RandomForestModel\n",
    "from randomforest.preprocess import load_dfs"
   ]
  },
  {
   "cell_type": "code",
   "execution_count": 3,
   "metadata": {},
   "outputs": [],
   "source": [
    "# create model\n",
    "model = RandomForestModel()\n",
    "\n",
    "# globalize functions\n",
    "fit = model.fit\n",
    "predict = model.predict\n",
    "assert_predictions = model.assert_predictions"
   ]
  },
  {
   "cell_type": "code",
   "execution_count": 4,
   "metadata": {},
   "outputs": [],
   "source": [
    "# load and clean datasets\n",
    "data_train, data_test = load_dfs('data.csv')"
   ]
  },
  {
   "cell_type": "code",
   "execution_count": 5,
   "metadata": {},
   "outputs": [],
   "source": [
    "# train model\n",
    "fit(data_train, 'Class')"
   ]
  },
  {
   "cell_type": "code",
   "execution_count": 6,
   "metadata": {},
   "outputs": [
    {
     "data": {
      "text/plain": [
       "'84.66387601534858%'"
      ]
     },
     "execution_count": 6,
     "metadata": {},
     "output_type": "execute_result"
    }
   ],
   "source": [
    "# check how well we did\n",
    "assert_predictions(data_test)"
   ]
  },
  {
   "cell_type": "code",
   "execution_count": 7,
   "metadata": {},
   "outputs": [
    {
     "name": "stdout",
     "output_type": "stream",
     "text": [
      "\"Autocor_length\" <= 1.0:\n",
      "\n",
      "      \"PercentDifferenceFluxPercentile\" <= 0.03367989:\n",
      "\n",
      "            \"Freq1_harmonics_amplitude_0\" <= 0.17855599:\n",
      "\n",
      "                  \"MedianAbsDev\" <= 0.09979152999999999:\n",
      "\n",
      "                        prediction: \"MIRA_SR\"!\n",
      "\n",
      "         \"MedianAbsDev\" > 0.09979152999999999:\n",
      "\n",
      "                        prediction: \"RRAB\"!\n",
      "\n",
      "\n",
      "      \"Freq1_harmonics_amplitude_0\" > 0.17855599:\n",
      "\n",
      "                  \"Meanvariance\" <= 0.0096885:\n",
      "\n",
      "                        prediction: \"RRAB\"!\n",
      "\n",
      "         \"Meanvariance\" > 0.0096885:\n",
      "\n",
      "                        prediction: \"RRAB\"!\n",
      "\n",
      "\n",
      "\n",
      "   \"PercentDifferenceFluxPercentile\" > 0.03367989:\n",
      "\n",
      "            \"Eta_e\" <= 25823.54673434:\n",
      "\n",
      "                  \"Rcs\" <= 0.18500374:\n",
      "\n",
      "                        prediction: \"RRAB\"!\n",
      "\n",
      "         \"Rcs\" > 0.18500374:\n",
      "\n",
      "                        prediction: \"RRAB\"!\n",
      "\n",
      "\n",
      "      \"Eta_e\" > 25823.54673434:\n",
      "\n",
      "                  \"Freq1_harmonics_amplitude_0\" <= 0.3172628:\n",
      "\n",
      "                        prediction: \"RRAB\"!\n",
      "\n",
      "         \"Freq1_harmonics_amplitude_0\" > 0.3172628:\n",
      "\n",
      "                        prediction: \"RRAB\"!\n",
      "\n",
      "\n",
      "\n",
      "\n",
      "\"Autocor_length\" > 1.0:\n",
      "\n",
      "      \"Eta_e\" <= 151.919467505:\n",
      "\n",
      "            \"Rcs\" <= 0.34434061:\n",
      "\n",
      "                  \"Freq1_harmonics_amplitude_0\" <= 0.325464765:\n",
      "\n",
      "                        prediction: \"MIRA_SR\"!\n",
      "\n",
      "         \"Freq1_harmonics_amplitude_0\" > 0.325464765:\n",
      "\n",
      "                        prediction: \"MIRA_SR\"!\n",
      "\n",
      "\n",
      "      \"Rcs\" > 0.34434061:\n",
      "\n",
      "                  \"Meanvariance\" <= 0.0117959:\n",
      "\n",
      "                        prediction: \"MIRA_SR\"!\n",
      "\n",
      "         \"Meanvariance\" > 0.0117959:\n",
      "\n",
      "                        prediction: \"MIRA_SR\"!\n",
      "\n",
      "\n",
      "\n",
      "   \"Eta_e\" > 151.919467505:\n",
      "\n",
      "            \"MedianAbsDev\" <= 0.06447029:\n",
      "\n",
      "                  \"Rcs\" <= 0.344911855:\n",
      "\n",
      "                        prediction: \"MIRA_SR\"!\n",
      "\n",
      "         \"Rcs\" > 0.344911855:\n",
      "\n",
      "                        prediction: \"MIRA_SR\"!\n",
      "\n",
      "\n",
      "      \"MedianAbsDev\" > 0.06447029:\n",
      "\n",
      "                  \"Freq1_harmonics_amplitude_0\" <= 0.16305801:\n",
      "\n",
      "                        prediction: \"MIRA_SR\"!\n",
      "\n",
      "         \"Freq1_harmonics_amplitude_0\" > 0.16305801:\n",
      "\n",
      "                        prediction: \"RRAB\"!\n",
      "\n",
      "\n",
      "\n",
      "\n",
      "\n"
     ]
    }
   ],
   "source": [
    "# visualize one of the trees\n",
    "print(model.forest[0])"
   ]
  },
  {
   "cell_type": "code",
   "execution_count": null,
   "metadata": {},
   "outputs": [],
   "source": []
  }
 ],
 "metadata": {
  "kernelspec": {
   "display_name": "Python 3",
   "language": "python",
   "name": "python3"
  },
  "language_info": {
   "codemirror_mode": {
    "name": "ipython",
    "version": 3
   },
   "file_extension": ".py",
   "mimetype": "text/x-python",
   "name": "python",
   "nbconvert_exporter": "python",
   "pygments_lexer": "ipython3",
   "version": "3.7.0"
  }
 },
 "nbformat": 4,
 "nbformat_minor": 2
}
